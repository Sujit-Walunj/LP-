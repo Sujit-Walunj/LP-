{
 "cells": [
  {
   "cell_type": "markdown",
   "metadata": {
    "id": "JULfpY8qGHnq"
   },
   "source": [
    "2.\n",
    "Classification using Deep neural network:\n",
    "Binary classification using Deep Neural Networks Example: Classify movie reviews into positive\" reviews and \"negative\" reviews, just based on the text content of the reviews. Use IMDB dataset"
   ]
  },
  {
   "cell_type": "code",
   "execution_count": 1,
   "metadata": {
    "id": "3ODOMCTRGDgn"
   },
   "outputs": [],
   "source": [
    "import pandas as pd\n",
    "import numpy as np\n",
    "import matplotlib.pyplot as plt\n",
    "import tensorflow as tf\n",
    "from tensorflow import keras\n",
    "from tensorflow.keras import layers,models\n",
    "\n",
    "\n",
    "\n",
    "# tensorflow (import tensorflow as tf):\n",
    "# The main package for TensorFlow, which is a popular machine learning library developed by Google.\n",
    "# It's used for building and training machine learning models, particularly deep learning models like neural networks.\n",
    "# tensorflow.keras (from tensorflow import keras):\n",
    "# Keras is a high-level neural networks API, written in Python and capable of running on top of TensorFlow.\n",
    "# It simplifies building, training, and evaluating deep learning models.\n",
    "# tensorflow.keras.layers (from tensorflow.keras import layers):\n",
    "# This module contains various layers for constructing neural networks. Examples include dense layers, convolutional layers, LSTM layers, etc.\n",
    "# Each layer serves a specific purpose, such as connecting neurons in fully connected layers, applying convolutions in CNNs, or maintaining memory in RNNs.\n",
    "# tensorflow.keras.models (from tensorflow.keras import models):\n",
    "# This is used to define and build models. It provides functions like Sequential (to build models layer by layer) and Model (for more complex architectures).\n",
    "\n"
   ]
  },
  {
   "cell_type": "code",
   "execution_count": 2,
   "metadata": {
    "colab": {
     "base_uri": "https://localhost:8080/"
    },
    "executionInfo": {
     "elapsed": 4483,
     "status": "ok",
     "timestamp": 1742920432992,
     "user": {
      "displayName": "Prajwal Khedkar",
      "userId": "02729247762222816633"
     },
     "user_tz": -330
    },
    "id": "ssqExWIVJH-b",
    "outputId": "dbedaebc-70ec-4df6-e4f9-e3659ea61d11"
   },
   "outputs": [],
   "source": [
    "# Load IMDB dataset\n",
    "imdb = keras.datasets.imdb\n",
    "# This imports the IMDB dataset from the tensorflow.keras.datasets module.\n",
    "# The IMDB dataset consists of movie reviews and their corresponding \n",
    "# sentiment labels (positive or negative).\n",
    "\n",
    "\n",
    "(train_data, train_labels), (test_data, test_labels) = imdb.load_data(num_words=10000)\n",
    "# num_words=10000: This argument restricts the dataset to the top 10,000 most frequent words. \n",
    "# This helps reduce the size of the dataset"
   ]
  },
  {
   "cell_type": "code",
   "execution_count": 3,
   "metadata": {
    "colab": {
     "base_uri": "https://localhost:8080/"
    },
    "executionInfo": {
     "elapsed": 120,
     "status": "ok",
     "timestamp": 1742920656363,
     "user": {
      "displayName": "Prajwal Khedkar",
      "userId": "02729247762222816633"
     },
     "user_tz": -330
    },
    "id": "M3xPHTwZJ7hL",
    "outputId": "ef2bb821-7c7e-417f-d2a5-daa24de3cf0f"
   },
   "outputs": [
    {
     "name": "stdout",
     "output_type": "stream",
     "text": [
      "? this film was just brilliant casting location scenery story direction everyone's really suited the part they played and you could just imagine being there robert ? is an amazing actor and now the same being director ? father came from the same scottish island as myself so i loved the fact there was a real connection with this film the witty remarks throughout the film were great it was just brilliant so much that i bought the film as soon as it was released for ? and would recommend it to everyone to watch and the fly fishing was amazing really cried at the end it was so sad and you know what they say if you cry at a film it must have been good and this definitely was also ? to the two little boy's that played the ? of norman and paul they were just brilliant children are often left out of the ? list i think because the stars that play them all grown up are such a big profile for the whole film but these children are amazing and should be praised for what they have done don't you think the whole story was so lovely because it was true and was someone's life after all that was shared with us all\n"
     ]
    }
   ],
   "source": [
    "word_index = imdb.get_word_index()  # Load word-to-index dictionary\n",
    "# This loads a dictionary that maps each word in the IMDB dataset to\n",
    "# a unique integer. The dictionary is used to convert words into integer \n",
    "# indices when the data is loaded into train_data and test_data.\n",
    "\n",
    "reverse_word_index = {value: key for key, value in word_index.items()}\n",
    "# This creates a reverse mapping of the original word_index. \n",
    "# The new dictionary reverse_word_index will map integers (indices) back to words.\n",
    "\n",
    "decoded_review = ' '.join([reverse_word_index.get(i - 3, '?') for i in train_data[0]])\n",
    "# This line decodes the first review in train_data back into words.\n",
    "print(decoded_review)\n",
    "\n"
   ]
  },
  {
   "cell_type": "code",
   "execution_count": 4,
   "metadata": {
    "id": "eDD5dq7XLCv6"
   },
   "outputs": [],
   "source": [
    "\n",
    "def vectorize_sequences(sequences, dimension=10000):\n",
    "    results = np.zeros((len(sequences), dimension))  # Creates an all-zero matrix of shape (num_samples, 10000)\n",
    "    for i, sequence in enumerate(sequences):\n",
    "        results[i, sequence] = 1  # Sets specific indices to 1 (one-hot encoding)\n",
    "    return results\n",
    "\n",
    "# Vectorize training and test data\n",
    "X_train = vectorize_sequences(train_data)\n",
    "X_test = vectorize_sequences(test_data)\n",
    "\n",
    "# It will return a one-hot encoded matrix where each review is represented by a vector of length 10000, with 1s at the positions of the words that appear in the review and 0s elsewhere.\n",
    "\n",
    "# In this code, the vectorize_sequences function is being used to convert the list of integer sequences \n",
    "# (which represent the words in a review) into a matrix of one-hot encoded vectors.\n"
   ]
  },
  {
   "cell_type": "code",
   "execution_count": 5,
   "metadata": {
    "colab": {
     "base_uri": "https://localhost:8080/"
    },
    "executionInfo": {
     "elapsed": 226,
     "status": "ok",
     "timestamp": 1742920921927,
     "user": {
      "displayName": "Prajwal Khedkar",
      "userId": "02729247762222816633"
     },
     "user_tz": -330
    },
    "id": "yzyya9bGLotR",
    "outputId": "106db6fe-7d6c-437e-d4e3-b47c6dac436b"
   },
   "outputs": [
    {
     "data": {
      "text/plain": [
       "array([0., 1., 1., ..., 0., 0., 0.])"
      ]
     },
     "execution_count": 5,
     "metadata": {},
     "output_type": "execute_result"
    }
   ],
   "source": [
    "X_train[0]"
   ]
  },
  {
   "cell_type": "code",
   "execution_count": 6,
   "metadata": {
    "colab": {
     "base_uri": "https://localhost:8080/"
    },
    "executionInfo": {
     "elapsed": 191,
     "status": "ok",
     "timestamp": 1742920984250,
     "user": {
      "displayName": "Prajwal Khedkar",
      "userId": "02729247762222816633"
     },
     "user_tz": -330
    },
    "id": "7wmJwid9LsRI",
    "outputId": "10dc1dff-d280-4589-8da6-e3bc7955cab1"
   },
   "outputs": [
    {
     "data": {
      "text/plain": [
       "(25000, 10000)"
      ]
     },
     "execution_count": 6,
     "metadata": {},
     "output_type": "execute_result"
    }
   ],
   "source": [
    "X_train.shape"
   ]
  },
  {
   "cell_type": "code",
   "execution_count": 7,
   "metadata": {
    "id": "YOdWfHVdL8_e"
   },
   "outputs": [],
   "source": [
    "# train_labels and test_labels are originally Python lists of integers\n",
    "# Convert labels to NumPy arrays of type float32\n",
    "y_train = np.asarray(train_labels).astype('float32')\n",
    "y_test = np.asarray(test_labels).astype('float32')"
   ]
  },
  {
   "cell_type": "code",
   "execution_count": 8,
   "metadata": {
    "colab": {
     "base_uri": "https://localhost:8080/"
    },
    "executionInfo": {
     "elapsed": 173,
     "status": "ok",
     "timestamp": 1742921395562,
     "user": {
      "displayName": "Prajwal Khedkar",
      "userId": "02729247762222816633"
     },
     "user_tz": -330
    },
    "id": "Z8zYhIAYM5I1",
    "outputId": "38eeed6b-809f-401d-fbf3-90c60f0180f6"
   },
   "outputs": [
    {
     "name": "stderr",
     "output_type": "stream",
     "text": [
      "C:\\ProgramData\\anaconda3\\Lib\\site-packages\\keras\\src\\layers\\core\\dense.py:87: UserWarning: Do not pass an `input_shape`/`input_dim` argument to a layer. When using Sequential models, prefer using an `Input(shape)` object as the first layer in the model instead.\n",
      "  super().__init__(activity_regularizer=activity_regularizer, **kwargs)\n"
     ]
    }
   ],
   "source": [
    "# Define the model\n",
    "model = models.Sequential()\n",
    "\n",
    "# Input Layer + First Hidden Layer (16 neurons, ReLU activation)\n",
    "model.add(layers.Dense(16, activation='relu', input_shape=(10000,)))\n",
    "\n",
    "# Second Hidden Layer (16 neurons, ReLU activation)\n",
    "model.add(layers.Dense(16, activation='relu'))\n",
    "\n",
    "# Output Layer (1 neuron, Sigmoid activation for binary classification)\n",
    "model.add(layers.Dense(1, activation='sigmoid'))"
   ]
  },
  {
   "cell_type": "code",
   "execution_count": 9,
   "metadata": {
    "id": "dVIMbzAMN6Pg"
   },
   "outputs": [],
   "source": [
    "from tensorflow.keras import optimizers, losses, metrics\n",
    "# Compile the model\n",
    "model.compile(\n",
    "    optimizer=optimizers.RMSprop(learning_rate=0.001),  # RMSprop optimizer with a learning rate of 0.001\n",
    "    loss=losses.binary_crossentropy,  # Binary cross-entropy loss for binary classification\n",
    "    metrics=[metrics.binary_accuracy]  # Track binary accuracy during training\n",
    ")"
   ]
  },
  {
   "cell_type": "code",
   "execution_count": 10,
   "metadata": {
    "id": "P3dTIIVnOZiI"
   },
   "outputs": [],
   "source": [
    "# Split the first 10,000 samples for validation\n",
    "X_val = X_train[:10000]   # First 10,000 samples for validation\n",
    "partial_X_train = X_train[10000:]  # Remaining samples for training\n",
    "\n",
    "# Split labels accordingly\n",
    "y_val = y_train[:10000]   # First 10,000 labels for validation\n",
    "partial_y_train = y_train[10000:]  # Remaining labels for training\n"
   ]
  },
  {
   "cell_type": "code",
   "execution_count": 11,
   "metadata": {
    "colab": {
     "base_uri": "https://localhost:8080/"
    },
    "executionInfo": {
     "elapsed": 33997,
     "status": "ok",
     "timestamp": 1742921726676,
     "user": {
      "displayName": "Prajwal Khedkar",
      "userId": "02729247762222816633"
     },
     "user_tz": -330
    },
    "id": "Ou5JWOIpOfT-",
    "outputId": "c6327751-e52e-4d79-edd5-9a4bec44a7d1"
   },
   "outputs": [
    {
     "name": "stdout",
     "output_type": "stream",
     "text": [
      "Epoch 1/20\n",
      "\u001b[1m30/30\u001b[0m \u001b[32m━━━━━━━━━━━━━━━━━━━━\u001b[0m\u001b[37m\u001b[0m \u001b[1m2s\u001b[0m 34ms/step - binary_accuracy: 0.6933 - loss: 0.6082 - val_binary_accuracy: 0.8367 - val_loss: 0.4296\n",
      "Epoch 2/20\n",
      "\u001b[1m30/30\u001b[0m \u001b[32m━━━━━━━━━━━━━━━━━━━━\u001b[0m\u001b[37m\u001b[0m \u001b[1m0s\u001b[0m 11ms/step - binary_accuracy: 0.8901 - loss: 0.3521 - val_binary_accuracy: 0.8768 - val_loss: 0.3268\n",
      "Epoch 3/20\n",
      "\u001b[1m30/30\u001b[0m \u001b[32m━━━━━━━━━━━━━━━━━━━━\u001b[0m\u001b[37m\u001b[0m \u001b[1m0s\u001b[0m 13ms/step - binary_accuracy: 0.9162 - loss: 0.2570 - val_binary_accuracy: 0.8583 - val_loss: 0.3384\n",
      "Epoch 4/20\n",
      "\u001b[1m30/30\u001b[0m \u001b[32m━━━━━━━━━━━━━━━━━━━━\u001b[0m\u001b[37m\u001b[0m \u001b[1m1s\u001b[0m 19ms/step - binary_accuracy: 0.9335 - loss: 0.2049 - val_binary_accuracy: 0.8846 - val_loss: 0.2881\n",
      "Epoch 5/20\n",
      "\u001b[1m30/30\u001b[0m \u001b[32m━━━━━━━━━━━━━━━━━━━━\u001b[0m\u001b[37m\u001b[0m \u001b[1m1s\u001b[0m 22ms/step - binary_accuracy: 0.9445 - loss: 0.1710 - val_binary_accuracy: 0.8827 - val_loss: 0.2893\n",
      "Epoch 6/20\n",
      "\u001b[1m30/30\u001b[0m \u001b[32m━━━━━━━━━━━━━━━━━━━━\u001b[0m\u001b[37m\u001b[0m \u001b[1m1s\u001b[0m 23ms/step - binary_accuracy: 0.9573 - loss: 0.1441 - val_binary_accuracy: 0.8845 - val_loss: 0.2892\n",
      "Epoch 7/20\n",
      "\u001b[1m30/30\u001b[0m \u001b[32m━━━━━━━━━━━━━━━━━━━━\u001b[0m\u001b[37m\u001b[0m \u001b[1m1s\u001b[0m 20ms/step - binary_accuracy: 0.9626 - loss: 0.1220 - val_binary_accuracy: 0.8787 - val_loss: 0.3038\n",
      "Epoch 8/20\n",
      "\u001b[1m30/30\u001b[0m \u001b[32m━━━━━━━━━━━━━━━━━━━━\u001b[0m\u001b[37m\u001b[0m \u001b[1m1s\u001b[0m 20ms/step - binary_accuracy: 0.9689 - loss: 0.1070 - val_binary_accuracy: 0.8846 - val_loss: 0.3028\n",
      "Epoch 9/20\n",
      "\u001b[1m30/30\u001b[0m \u001b[32m━━━━━━━━━━━━━━━━━━━━\u001b[0m\u001b[37m\u001b[0m \u001b[1m1s\u001b[0m 21ms/step - binary_accuracy: 0.9774 - loss: 0.0852 - val_binary_accuracy: 0.8833 - val_loss: 0.3186\n",
      "Epoch 10/20\n",
      "\u001b[1m30/30\u001b[0m \u001b[32m━━━━━━━━━━━━━━━━━━━━\u001b[0m\u001b[37m\u001b[0m \u001b[1m1s\u001b[0m 18ms/step - binary_accuracy: 0.9809 - loss: 0.0742 - val_binary_accuracy: 0.8809 - val_loss: 0.3407\n",
      "Epoch 11/20\n",
      "\u001b[1m30/30\u001b[0m \u001b[32m━━━━━━━━━━━━━━━━━━━━\u001b[0m\u001b[37m\u001b[0m \u001b[1m1s\u001b[0m 19ms/step - binary_accuracy: 0.9860 - loss: 0.0609 - val_binary_accuracy: 0.8765 - val_loss: 0.3534\n",
      "Epoch 12/20\n",
      "\u001b[1m30/30\u001b[0m \u001b[32m━━━━━━━━━━━━━━━━━━━━\u001b[0m\u001b[37m\u001b[0m \u001b[1m1s\u001b[0m 21ms/step - binary_accuracy: 0.9888 - loss: 0.0503 - val_binary_accuracy: 0.8773 - val_loss: 0.3709\n",
      "Epoch 13/20\n",
      "\u001b[1m30/30\u001b[0m \u001b[32m━━━━━━━━━━━━━━━━━━━━\u001b[0m\u001b[37m\u001b[0m \u001b[1m1s\u001b[0m 19ms/step - binary_accuracy: 0.9922 - loss: 0.0417 - val_binary_accuracy: 0.8559 - val_loss: 0.4714\n",
      "Epoch 14/20\n",
      "\u001b[1m30/30\u001b[0m \u001b[32m━━━━━━━━━━━━━━━━━━━━\u001b[0m\u001b[37m\u001b[0m \u001b[1m1s\u001b[0m 20ms/step - binary_accuracy: 0.9914 - loss: 0.0409 - val_binary_accuracy: 0.8671 - val_loss: 0.4369\n",
      "Epoch 15/20\n",
      "\u001b[1m30/30\u001b[0m \u001b[32m━━━━━━━━━━━━━━━━━━━━\u001b[0m\u001b[37m\u001b[0m \u001b[1m1s\u001b[0m 20ms/step - binary_accuracy: 0.9959 - loss: 0.0295 - val_binary_accuracy: 0.8721 - val_loss: 0.4359\n",
      "Epoch 16/20\n",
      "\u001b[1m30/30\u001b[0m \u001b[32m━━━━━━━━━━━━━━━━━━━━\u001b[0m\u001b[37m\u001b[0m \u001b[1m1s\u001b[0m 21ms/step - binary_accuracy: 0.9971 - loss: 0.0224 - val_binary_accuracy: 0.8723 - val_loss: 0.4535\n",
      "Epoch 17/20\n",
      "\u001b[1m30/30\u001b[0m \u001b[32m━━━━━━━━━━━━━━━━━━━━\u001b[0m\u001b[37m\u001b[0m \u001b[1m1s\u001b[0m 21ms/step - binary_accuracy: 0.9978 - loss: 0.0193 - val_binary_accuracy: 0.8704 - val_loss: 0.4765\n",
      "Epoch 18/20\n",
      "\u001b[1m30/30\u001b[0m \u001b[32m━━━━━━━━━━━━━━━━━━━━\u001b[0m\u001b[37m\u001b[0m \u001b[1m1s\u001b[0m 22ms/step - binary_accuracy: 0.9983 - loss: 0.0166 - val_binary_accuracy: 0.8723 - val_loss: 0.4925\n",
      "Epoch 19/20\n",
      "\u001b[1m30/30\u001b[0m \u001b[32m━━━━━━━━━━━━━━━━━━━━\u001b[0m\u001b[37m\u001b[0m \u001b[1m1s\u001b[0m 20ms/step - binary_accuracy: 0.9991 - loss: 0.0129 - val_binary_accuracy: 0.8697 - val_loss: 0.5185\n",
      "Epoch 20/20\n",
      "\u001b[1m30/30\u001b[0m \u001b[32m━━━━━━━━━━━━━━━━━━━━\u001b[0m\u001b[37m\u001b[0m \u001b[1m1s\u001b[0m 21ms/step - binary_accuracy: 0.9995 - loss: 0.0105 - val_binary_accuracy: 0.8709 - val_loss: 0.5328\n"
     ]
    }
   ],
   "source": [
    "# Train the model\n",
    "history = model.fit(\n",
    "    partial_X_train,  # Training data (excluding validation set)\n",
    "    partial_y_train,  # Training labels\n",
    "    epochs=20,  # Train for 20 epochs\n",
    "    batch_size=512,  # Process 512 samples per batch\n",
    "    validation_data=(X_val, y_val)  # Validate using the validation set\n",
    ")"
   ]
  },
  {
   "cell_type": "code",
   "execution_count": 12,
   "metadata": {
    "colab": {
     "base_uri": "https://localhost:8080/"
    },
    "executionInfo": {
     "elapsed": 14,
     "status": "ok",
     "timestamp": 1742921807920,
     "user": {
      "displayName": "Prajwal Khedkar",
      "userId": "02729247762222816633"
     },
     "user_tz": -330
    },
    "id": "iTCtKWrOOpMQ",
    "outputId": "b6a9cdb7-0223-4d62-cd6f-451439064edb"
   },
   "outputs": [
    {
     "name": "stdout",
     "output_type": "stream",
     "text": [
      "dict_keys(['binary_accuracy', 'loss', 'val_binary_accuracy', 'val_loss'])\n"
     ]
    }
   ],
   "source": [
    "# Extract history dictionary\n",
    "history_dict = history.history\n",
    "# Display available keys in history\n",
    "print(history_dict.keys())"
   ]
  },
  {
   "cell_type": "code",
   "execution_count": 13,
   "metadata": {
    "colab": {
     "base_uri": "https://localhost:8080/",
     "height": 472
    },
    "executionInfo": {
     "elapsed": 422,
     "status": "ok",
     "timestamp": 1742922014130,
     "user": {
      "displayName": "Prajwal Khedkar",
      "userId": "02729247762222816633"
     },
     "user_tz": -330
    },
    "id": "fzU2qBRRPEZx",
    "outputId": "43c1b547-3b57-47b7-8277-7b4886c55e0d"
   },
   "outputs": [
    {
     "data": {
      "image/png": "[encoded data removed]",
      "text/plain": [
       "<Figure size 640x480 with 1 Axes>"
      ]
     },
     "metadata": {},
     "output_type": "display_data"
    }
   ],
   "source": [
    "# used to visualize the model's performance during training. Specifically, it helps you understand \n",
    "# how well your model is learning and whether it is overfitting or underfitting\n",
    "# Extract loss values\n",
    "loss_values = history_dict['loss']  # Training loss\n",
    "val_loss_values = history_dict['val_loss']  # Validation loss\n",
    "\n",
    "# Get the number of epochs\n",
    "epochs = range(1, len(loss_values) + 1)\n",
    "# Plot training and validation loss\n",
    "plt.plot(epochs, loss_values, 'g', label=\"Training Loss\")  # Green line for training loss\n",
    "plt.plot(epochs, val_loss_values, 'b', label=\"Validation Loss\")  # Blue line for validation loss\n",
    "# Formatting the plot\n",
    "plt.title('Training and Validation Loss')  # Title of the plot\n",
    "plt.xlabel('Epochs')  # X-axis label\n",
    "plt.ylabel('Loss Value')  # Y-axis label\n",
    "plt.legend()  # Show legend (Training Loss, Validation Loss)\n",
    "# Display the plot\n",
    "plt.show()"
   ]
  },
  {
   "cell_type": "code",
   "execution_count": 14,
   "metadata": {
    "colab": {
     "base_uri": "https://localhost:8080/",
     "height": 472
    },
    "executionInfo": {
     "elapsed": 247,
     "status": "ok",
     "timestamp": 1742922072338,
     "user": {
      "displayName": "Prajwal Khedkar",
      "userId": "02729247762222816633"
     },
     "user_tz": -330
    },
    "id": "UlEtx9BxP20O",
    "outputId": "96dbcc70-6a75-4728-b83f-7c3d14614c9f"
   },
   "outputs": [
    {
     "data": {
      "image/png": "[encoded data removed]",
      "text/plain": [
       "<Figure size 640x480 with 1 Axes>"
      ]
     },
     "metadata": {},
     "output_type": "display_data"
    }
   ],
   "source": [
    "# Extract accuracy values\n",
    "acc_values = history_dict['binary_accuracy']  # Training accuracy\n",
    "val_acc_values = history_dict['val_binary_accuracy']  # Validation accuracy\n",
    "\n",
    "# Get the number of epochs\n",
    "epochs = range(1, len(acc_values) + 1)\n",
    "\n",
    "# Plot training and validation accuracy\n",
    "plt.plot(epochs, acc_values, 'g', label=\"Training Accuracy\")  # Green line for training accuracy\n",
    "plt.plot(epochs, val_acc_values, 'b', label=\"Validation Accuracy\")  # Blue line for validation accuracy\n",
    "\n",
    "# Formatting the plot\n",
    "plt.title('Training and Validation Accuracy')  # Title of the plot\n",
    "plt.xlabel('Epochs')  # X-axis label\n",
    "plt.ylabel('Accuracy')  # Y-axis label\n",
    "plt.legend()  # Show legend (Training Accuracy, Validation Accuracy)\n",
    "\n",
    "# Display the plot\n",
    "plt.show()"
   ]
  },
  {
   "cell_type": "code",
   "execution_count": 15,
   "metadata": {
    "colab": {
     "base_uri": "https://localhost:8080/"
    },
    "executionInfo": {
     "elapsed": 6566,
     "status": "ok",
     "timestamp": 1742922112096,
     "user": {
      "displayName": "Prajwal Khedkar",
      "userId": "02729247762222816633"
     },
     "user_tz": -330
    },
    "id": "HuCdm8fZQE4h",
    "outputId": "96e182f9-9776-4679-c8d4-6d6b905ce7af"
   },
   "outputs": [
    {
     "name": "stdout",
     "output_type": "stream",
     "text": [
      "Epoch 1/3\n",
      "\u001b[1m30/30\u001b[0m \u001b[32m━━━━━━━━━━━━━━━━━━━━\u001b[0m\u001b[37m\u001b[0m \u001b[1m1s\u001b[0m 32ms/step - binary_accuracy: 0.9993 - loss: 0.0095 - val_binary_accuracy: 0.8701 - val_loss: 0.5502\n",
      "Epoch 2/3\n",
      "\u001b[1m30/30\u001b[0m \u001b[32m━━━━━━━━━━━━━━━━━━━━\u001b[0m\u001b[37m\u001b[0m \u001b[1m0s\u001b[0m 11ms/step - binary_accuracy: 0.9997 - loss: 0.0069 - val_binary_accuracy: 0.8689 - val_loss: 0.5728\n",
      "Epoch 3/3\n",
      "\u001b[1m30/30\u001b[0m \u001b[32m━━━━━━━━━━━━━━━━━━━━\u001b[0m\u001b[37m\u001b[0m \u001b[1m0s\u001b[0m 14ms/step - binary_accuracy: 0.9986 - loss: 0.0098 - val_binary_accuracy: 0.8698 - val_loss: 0.5901\n"
     ]
    }
   ],
   "source": [
    "# Retrain the model for only 3 epochs\n",
    "history = model.fit(\n",
    "    partial_X_train,  # Training data (excluding validation set)\n",
    "    partial_y_train,  # Training labels\n",
    "    epochs=3,  # Train for only 3 epochs\n",
    "    batch_size=512,  # Process 512 samples per batch\n",
    "    validation_data=(X_val, y_val)  # Validate using the validation set\n",
    ")"
   ]
  },
  {
   "cell_type": "code",
   "execution_count": 16,
   "metadata": {
    "colab": {
     "base_uri": "https://localhost:8080/"
    },
    "executionInfo": {
     "elapsed": 10437,
     "status": "ok",
     "timestamp": 1742922134509,
     "user": {
      "displayName": "Prajwal Khedkar",
      "userId": "02729247762222816633"
     },
     "user_tz": -330
    },
    "id": "7N0Pe-_eQM2J",
    "outputId": "e709aaf5-72bc-47e1-a4f9-164d9130f5ab"
   },
   "outputs": [
    {
     "name": "stdout",
     "output_type": "stream",
     "text": [
      "\u001b[1m782/782\u001b[0m \u001b[32m━━━━━━━━━━━━━━━━━━━━\u001b[0m\u001b[37m\u001b[0m \u001b[1m2s\u001b[0m 2ms/step\n"
     ]
    }
   ],
   "source": [
    "# Suppress scientific notation for better readability\n",
    "np.set_printoptions(suppress=True)\n",
    "# Make predictions on test data\n",
    "result = model.predict(X_test)"
   ]
  },
  {
   "cell_type": "code",
   "execution_count": 17,
   "metadata": {
    "colab": {
     "base_uri": "https://localhost:8080/"
    },
    "executionInfo": {
     "elapsed": 30,
     "status": "ok",
     "timestamp": 1742922202367,
     "user": {
      "displayName": "Prajwal Khedkar",
      "userId": "02729247762222816633"
     },
     "user_tz": -330
    },
    "id": "WIL-jLXgQiZS",
    "outputId": "5a054d99-93cd-4a1b-a2cc-c05b9bb9a41e"
   },
   "outputs": [
    {
     "data": {
      "text/plain": [
       "array([[0.00499177],\n",
       "       [0.99999946],\n",
       "       [0.88116467],\n",
       "       ...,\n",
       "       [0.000517  ],\n",
       "       [0.00310972],\n",
       "       [0.9408313 ]], dtype=float32)"
      ]
     },
     "execution_count": 17,
     "metadata": {},
     "output_type": "execute_result"
    }
   ],
   "source": [
    "result"
   ]
  },
  {
   "cell_type": "code",
   "execution_count": 18,
   "metadata": {
    "colab": {
     "base_uri": "https://localhost:8080/"
    },
    "executionInfo": {
     "elapsed": 111,
     "status": "ok",
     "timestamp": 1742922264746,
     "user": {
      "displayName": "Prajwal Khedkar",
      "userId": "02729247762222816633"
     },
     "user_tz": -330
    },
    "id": "7IOaHdq9QxDR",
    "outputId": "2b248961-b8a7-4c51-89a4-d4678fc72d9e"
   },
   "outputs": [
    {
     "name": "stderr",
     "output_type": "stream",
     "text": [
      "C:\\Users\\sujit\\AppData\\Local\\Temp\\ipykernel_15124\\2159363129.py:5: DeprecationWarning: Conversion of an array with ndim > 0 to a scalar is deprecated, and will error in future. Ensure you extract a single element from your array before performing this operation. (Deprecated NumPy 1.25.)\n",
      "  y_pred[i] = np.round(score)\n"
     ]
    }
   ],
   "source": [
    "# Initialize an array of zeros to store predicted labels\n",
    "y_pred = np.zeros(len(result))\n",
    "# Convert probabilities to binary labels (0 or 1)\n",
    "for i, score in enumerate(result):\n",
    "    y_pred[i] = np.round(score)"
   ]
  },
  {
   "cell_type": "code",
   "execution_count": 19,
   "metadata": {
    "id": "MsQ0PblmQypM"
   },
   "outputs": [],
   "source": [
    "from sklearn import metrics\n",
    "# Compute Mean Absolute Error (MAE)\n",
    "mae = metrics.mean_absolute_error(y_test, y_pred)\n",
    "\n",
    "# The mean_absolute_error function calculates the mean absolute error\n",
    "# between the true labels (y_test) and the predicted labels (y_pred).\n",
    "# MAE is a common evaluation metric for regression tasks, and it\n",
    "# measures the average absolute difference between the predicted and true values. \n",
    "\n",
    "\n"
   ]
  },
  {
   "cell_type": "code",
   "execution_count": 20,
   "metadata": {
    "colab": {
     "base_uri": "https://localhost:8080/"
    },
    "executionInfo": {
     "elapsed": 14,
     "status": "ok",
     "timestamp": 1742922390043,
     "user": {
      "displayName": "Prajwal Khedkar",
      "userId": "02729247762222816633"
     },
     "user_tz": -330
    },
    "id": "siIgcDn4RN94",
    "outputId": "2f2b7a29-64fc-4fe1-d3bc-bcf74cc3db32"
   },
   "outputs": [
    {
     "data": {
      "text/plain": [
       "0.14088"
      ]
     },
     "execution_count": 20,
     "metadata": {},
     "output_type": "execute_result"
    }
   ],
   "source": [
    "mae"
   ]
  },
  {
   "cell_type": "code",
   "execution_count": null,
   "metadata": {},
   "outputs": [],
   "source": []
  },
  {
   "cell_type": "code",
   "execution_count": null,
   "metadata": {},
   "outputs": [],
   "source": []
  },
  {
   "cell_type": "code",
   "execution_count": null,
   "metadata": {},
   "outputs": [],
   "source": []
  }
 ],
 "metadata": {
  "colab": {
   "authorship_tag": "ABX9TyP5Rq61aMnq6eRG/It/6B7x",
   "provenance": []
  },
  "kernelspec": {
   "display_name": "Python 3 (ipykernel)",
   "language": "python",
   "name": "python3"
  },
  "language_info": {
   "codemirror_mode": {
    "name": "ipython",
    "version": 3
   },
   "file_extension": ".py",
   "mimetype": "text/x-python",
   "name": "python",
   "nbconvert_exporter": "python",
   "pygments_lexer": "ipython3",
   "version": "3.12.7"
  }
 },
 "nbformat": 4,
 "nbformat_minor": 4
}
